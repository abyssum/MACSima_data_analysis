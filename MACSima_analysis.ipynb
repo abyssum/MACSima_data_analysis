{
 "cells": [
  {
   "cell_type": "code",
   "execution_count": null,
   "metadata": {},
   "outputs": [],
   "source": [
    "import spatialdata\n",
    "import sopa.segmentation\n",
    "import sopa.io\n",
    "from multiprocessing import Pool"
   ]
  },
  {
   "cell_type": "markdown",
   "metadata": {},
   "source": [
    "Load in the data"
   ]
  },
  {
   "cell_type": "markdown",
   "metadata": {},
   "source": []
  },
  {
   "cell_type": "code",
   "execution_count": null,
   "metadata": {},
   "outputs": [],
   "source": [
    "path = \"/home/fotakis/myScratch/MACSima/data/test_run/new_test/\"\n",
    "sdata = sopa.io.macsima(path)"
   ]
  },
  {
   "cell_type": "code",
   "execution_count": null,
   "metadata": {},
   "outputs": [],
   "source": [
    "sdata"
   ]
  },
  {
   "cell_type": "code",
   "execution_count": null,
   "metadata": {},
   "outputs": [],
   "source": [
    "sdata = sopa.io.macsima(path)"
   ]
  },
  {
   "cell_type": "code",
   "execution_count": null,
   "metadata": {},
   "outputs": [],
   "source": [
    "image_key = \"new_test\"\n",
    "# points_key = \"transcripts\" # (ignore this for multiplex imaging)\n",
    "# gene_column = \"genes\" # (optional) column of sdata[points_key] containing the gene names"
   ]
  },
  {
   "cell_type": "code",
   "execution_count": null,
   "metadata": {},
   "outputs": [],
   "source": [
    "patches = sopa.segmentation.Patches2D(sdata, image_key, patch_width=3000, patch_overlap=40)\n",
    "patches.write();"
   ]
  },
  {
   "cell_type": "code",
   "execution_count": null,
   "metadata": {},
   "outputs": [],
   "source": [
    "from sopa._sdata import get_spatial_image\n",
    "\n",
    "print(get_spatial_image(sdata, image_key).c.values)"
   ]
  },
  {
   "cell_type": "code",
   "execution_count": null,
   "metadata": {},
   "outputs": [],
   "source": [
    "channels = [\"DAPI\"]\n",
    "\n",
    "method = sopa.segmentation.methods.cellpose_patch(diameter=35, channels=channels, flow_threshold=2, cellprob_threshold=-6)\n",
    "\n",
    "segmentation = sopa.segmentation.StainingSegmentation(sdata, method, channels, min_area=400)\n",
    "\n",
    "# The cellpose boundaries will be temporary saved here. You can choose a different path\n",
    "cellpose_temp_dir = \"test_run/.sopa_cache/cellpose\""
   ]
  },
  {
   "cell_type": "code",
   "execution_count": null,
   "metadata": {},
   "outputs": [],
   "source": [
    "segmentation.write_patches_cells(cellpose_temp_dir)"
   ]
  },
  {
   "cell_type": "code",
   "execution_count": null,
   "metadata": {},
   "outputs": [],
   "source": [
    "# Parallel\n",
    "# Function to process a single Loom file (will be used for multiprocessing pool)\n",
    "def cellpose_segmentation(patch_index):\n",
    "    print(\"processing patch: \" + str(patch_index) + \"\\n\")\n",
    "    segmentation.write_patch_cells(cellpose_temp_dir, patch_index)\n",
    "    # return ladata\n",
    "\n",
    "patches_list = list(range(len(sdata['sopa_patches'])))\n",
    "# Number of processes to use\n",
    "# num_processes = os.cpu_count()  # Run only if you want to use the number of all available CPU cores\n",
    "num_processes = 6\n",
    "\n",
    "# Create a multiprocessing Pool\n",
    "with Pool(processes=num_processes) as pool:\n",
    "    pool.map(cellpose_segmentation, patches_list)"
   ]
  },
  {
   "cell_type": "markdown",
   "metadata": {},
   "source": [
    "Resolving conflicts"
   ]
  },
  {
   "cell_type": "code",
   "execution_count": null,
   "metadata": {},
   "outputs": [],
   "source": [
    "cells = sopa.segmentation.StainingSegmentation.read_patches_cells(cellpose_temp_dir)\n",
    "cells = sopa.segmentation.shapes.solve_conflicts(cells)\n",
    "\n",
    "shapes_key = \"cellpose_boundaries\" # name of the key given to the cells in sdata.shapes\n",
    "\n",
    "sopa.segmentation.StainingSegmentation.add_shapes(sdata, cells, image_key, shapes_key)"
   ]
  }
 ],
 "metadata": {
  "kernelspec": {
   "display_name": "Python 3 (ipykernel)",
   "language": "python",
   "name": "python3"
  },
  "language_info": {
   "codemirror_mode": {
    "name": "ipython",
    "version": 3
   },
   "file_extension": ".py",
   "mimetype": "text/x-python",
   "name": "python",
   "nbconvert_exporter": "python",
   "pygments_lexer": "ipython3",
   "version": "3.11.10"
  }
 },
 "nbformat": 4,
 "nbformat_minor": 4
}
